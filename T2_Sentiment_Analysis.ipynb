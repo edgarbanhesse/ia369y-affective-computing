{
  "nbformat": 4,
  "nbformat_minor": 0,
  "metadata": {
    "colab": {
      "name": "T2 - Sentiment Analysis.ipynb",
      "version": "0.3.2",
      "provenance": [],
      "collapsed_sections": [],
      "include_colab_link": true
    },
    "kernelspec": {
      "name": "python3",
      "display_name": "Python 3"
    },
    "accelerator": "GPU"
  },
  "cells": [
    {
      "cell_type": "markdown",
      "metadata": {
        "id": "view-in-github",
        "colab_type": "text"
      },
      "source": [
        "[View in Colaboratory](https://colab.research.google.com/github/edgarbanhesse/ia369y-affective-computing/blob/master/T2_Sentiment_Analysis.ipynb)"
      ]
    },
    {
      "metadata": {
        "id": "RJ6O_vzulgeM",
        "colab_type": "text"
      },
      "cell_type": "markdown",
      "source": [
        "## T2 - Análise de Sentimentos em Textos\n",
        "\n",
        "### Objetivo\n",
        "\n",
        "O objetivo desta tarefa é expor os alunos aos desafios práticos envolvidos na análise de textos e na atribuição de valores de valência ou rótulos de emoções a sentenças.\n",
        "\n",
        "Não é objetivo desta tarefa avaliar a acurácia de detecção ou a eficiência do modelo implementado mas a análise crítica do projeto e o amadurecimento em relação ao problema.\n",
        "\n",
        "### Descrição da Tarefa\n",
        "\n",
        "Esta tarefa deverá ser realizada individualmente ou em dupla.\n",
        "\n",
        "Deve-se escolher um entre os dois problemas propostos abaixo.\n",
        "\n",
        "\n",
        "### Problema escolhido #2\n",
        "\n",
        " - Este problema utilizará a mesma base de dados utilizada no SemEval 2007 - 4th International Workshop on Semantic Evaluations, Task 14, Affective Tests.\n",
        " - A base de treinamento conta com 250 manchetes em inglês de jornais e websites (Google, CNN, etc.)\n",
        " - A cada manchete está associado um score de (0 a 100)  para os rótulos \"anger\", \"disgust\", \"fear\", \"joy\", \"sadness\", \"surprise\"\n",
        " - Também será fornecida uma base de testes e os rótulos \"golden\" fornecidos durante a conferência.\n",
        " - Todos os dados podem ser acessados pelo link, abaixo. Mas atenção, considerar apenas os dados referentes  a rótulos de emoções (identificados com sufixo *emotions*). A leitura dos arquivos README é essencial para o entendimento da base. http://web.eecs.umich.edu/~mihalcea/affectivetext/\n",
        " - A tarefa consiste em definir a abordagem ao problema, o modelo de classificação, as regras de análise e deverá realizar uma implementação prática do algoritmo definido.\n",
        "\n",
        "### Dupla\n",
        "\n",
        "- Edgar Lopes Banhesse RA 993396\n",
        "- Rodolfo De Nadai RA 208911"
      ]
    },
    {
      "metadata": {
        "id": "Sps57Gj26Fu5",
        "colab_type": "text"
      },
      "cell_type": "markdown",
      "source": [
        "## Abordagem para resolução do problema\n",
        "\n",
        "Para resolver o problema a abordagem será composta pelas seguintes etapas:\n",
        "\n",
        "1) Pré-processamento do texto - consiste em preparar a base de treinamento que será utilizada para treinar o modelo de classificação.\n",
        "\n",
        "2) Escolha e treinamento do classificador - Iremos avaliar vários classificadores de Regressão, para verificar qual deles possui melhor acurácia levando em consideração a pequena quantidade de dados.\n",
        "\n",
        "3) Avaliar o modelo - utilizar métricas, tais como: precisão (precision), revocação (recall) e medida F (f1-score) para avaliar a acurácia dos resultados obtidos com o modelo.\n",
        "\n",
        "4) Melhorar o modelo - treinar o modelo de classificação utilizando trigramas.\n",
        "\n",
        "5) Avaliar o modelo novamente - repetir o passo 3.\n",
        "\n",
        "6) Opotunidades - analisar os resultados obtidos em busca de oportunidades.\n",
        "- Vocês concordam com os rótulos que o algoritmo atribuiu?\n",
        "- Foi possível descobrir algo relevante sobre os dados a partir da análise de sentimentos?\n",
        "- Considerando que nenhum modelo é perfeito, quais são os pontos fracos do algoritmo implementado?\n",
        "- Quais seriam os pontos fortes?\n",
        "\n",
        "7) Conclusão - finalizar o experimento relatando as principais descobertas.\n",
        "\n",
        "8) Lições aprendidas - registrar as principais lições aprendidas durante a realização da tarefa."
      ]
    },
    {
      "metadata": {
        "id": "AsN2ZEyhmo9j",
        "colab_type": "text"
      },
      "cell_type": "markdown",
      "source": [
        "## Iniciando a resolução do Problema"
      ]
    },
    {
      "metadata": {
        "id": "LAf3Sh69mvzG",
        "colab_type": "text"
      },
      "cell_type": "markdown",
      "source": [
        "#### 1. Download do Dataset a ser utilizado e descompactação do mesmo."
      ]
    },
    {
      "metadata": {
        "id": "YL9e49Mj3kU-",
        "colab_type": "code",
        "colab": {
          "base_uri": "https://localhost:8080/",
          "height": 631
        },
        "outputId": "186a0fa1-2c5b-4924-fef7-e89a5ae7d8a0"
      },
      "cell_type": "code",
      "source": [
        "!wget http://web.eecs.umich.edu/~mihalcea/downloads/AffectiveText.Semeval.2007.tar.gz\n",
        "!tar -zxvf AffectiveText.Semeval.2007.tar.gz\n",
        "!ls\n",
        "!ls AffectiveText.trial\n",
        "\n",
        "!pip install torch torchvision"
      ],
      "execution_count": 3,
      "outputs": [
        {
          "output_type": "stream",
          "text": [
            "\n",
            "Redirecting output to ‘wget-log’.\n",
            "AffectiveText.test/\n",
            "AffectiveText.test/affectivetext_test.xml\n",
            "AffectiveText.test/README\n",
            "AffectiveText.test/affectivetext_test.valence.gold\n",
            "AffectiveText.test/affectivetext_test.emotions.gold\n",
            "AffectiveText.trial/\n",
            "AffectiveText.trial/affectivetext_trial.valence.gold\n",
            "AffectiveText.trial/affectivetext_trial.emotions.gold\n",
            "AffectiveText.trial/affectivetext_trial.xml\n",
            "AffectiveText.trial/README\n",
            "AffectiveText.Semeval.2007.tar.gz  AffectiveText.trial\twget-log\n",
            "AffectiveText.test\t\t   sample_data\n",
            "affectivetext_trial.emotions.gold  affectivetext_trial.xml\n",
            "affectivetext_trial.valence.gold   README\n",
            "Collecting torch\n",
            "\u001b[?25l  Downloading https://files.pythonhosted.org/packages/49/0e/e382bcf1a6ae8225f50b99cc26effa2d4cc6d66975ccf3fa9590efcbedce/torch-0.4.1-cp36-cp36m-manylinux1_x86_64.whl (519.5MB)\n",
            "\u001b[K    100% |████████████████████████████████| 519.5MB 32kB/s \n",
            "tcmalloc: large alloc 1073750016 bytes == 0x58b36000 @  0x7f6b02b961c4 0x46d6a4 0x5fcbcc 0x4c494d 0x54f3c4 0x553aaf 0x54e4c8 0x54f4f6 0x553aaf 0x54efc1 0x54f24d 0x553aaf 0x54efc1 0x54f24d 0x553aaf 0x54efc1 0x54f24d 0x551ee0 0x54e4c8 0x54f4f6 0x553aaf 0x54efc1 0x54f24d 0x551ee0 0x54efc1 0x54f24d 0x551ee0 0x54e4c8 0x54f4f6 0x553aaf 0x54e4c8\n",
            "\u001b[?25hCollecting torchvision\n",
            "\u001b[?25l  Downloading https://files.pythonhosted.org/packages/ca/0d/f00b2885711e08bd71242ebe7b96561e6f6d01fdb4b9dcf4d37e2e13c5e1/torchvision-0.2.1-py2.py3-none-any.whl (54kB)\n",
            "\u001b[K    100% |████████████████████████████████| 61kB 21.8MB/s \n",
            "\u001b[?25hRequirement already satisfied: six in /usr/local/lib/python3.6/dist-packages (from torchvision) (1.11.0)\n",
            "Collecting pillow>=4.1.1 (from torchvision)\n",
            "\u001b[?25l  Downloading https://files.pythonhosted.org/packages/d1/24/f53ff6b61b3d728b90934bddb4f03f8ab584a7f49299bf3bde56e2952612/Pillow-5.2.0-cp36-cp36m-manylinux1_x86_64.whl (2.0MB)\n",
            "\u001b[K    100% |████████████████████████████████| 2.0MB 4.3MB/s \n",
            "\u001b[?25hRequirement already satisfied: numpy in /usr/local/lib/python3.6/dist-packages (from torchvision) (1.14.5)\n",
            "Installing collected packages: torch, pillow, torchvision\n",
            "  Found existing installation: Pillow 4.0.0\n",
            "    Uninstalling Pillow-4.0.0:\n",
            "      Successfully uninstalled Pillow-4.0.0\n",
            "Successfully installed pillow-5.2.0 torch-0.4.1 torchvision-0.2.1\n"
          ],
          "name": "stdout"
        }
      ]
    },
    {
      "metadata": {
        "id": "NI3n_VROms0f",
        "colab_type": "text"
      },
      "cell_type": "markdown",
      "source": [
        "#### 2. Importação de bibliotecas."
      ]
    },
    {
      "metadata": {
        "id": "lybxYzk53UP2",
        "colab_type": "code",
        "colab": {
          "base_uri": "https://localhost:8080/",
          "height": 287
        },
        "outputId": "1279cdbe-1149-47f6-943f-3a0c41535429"
      },
      "cell_type": "code",
      "source": [
        "import re\n",
        "from collections import namedtuple\n",
        "import nltk\n",
        "import numpy as np\n",
        "import scipy as sc\n",
        "import pandas as pd\n",
        "import matplotlib.pyplot as plt\n",
        "from bs4 import BeautifulSoup\n",
        "\n",
        "%matplotlib inline\n",
        "\n",
        "np.warnings.filterwarnings('ignore')\n",
        "\n",
        "# Download de alguns dataset disponibilizados pelo NLTK\n",
        "nltk.download('punkt')\n",
        "nltk.download('wordnet')\n",
        "nltk.download('movie_reviews')\n",
        "nltk.download('sentence_polarity')\n",
        "nltk.download('sentiwordnet')\n",
        "nltk.download('stopwords')\n",
        "nltk.download('words')\n",
        "\n",
        "from nltk.corpus import movie_reviews\n",
        "# from nltk.corpus import sentence_polarity\n",
        "# from nltk.corpus import sentiwordnet\n",
        "from nltk.corpus import stopwords\n",
        "from nltk.stem import WordNetLemmatizer\n",
        "from nltk.util import ngrams\n",
        "\n",
        "from sklearn.feature_extraction.text import CountVectorizer\n",
        "from sklearn.feature_extraction.text import TfidfTransformer\n",
        "from sklearn.feature_extraction.text import TfidfVectorizer\n",
        "from sklearn.feature_extraction.stop_words import ENGLISH_STOP_WORDS\n",
        "\n",
        "Conjunto = namedtuple('Conjunto', ['uid', 'phrase',\n",
        "                                   'tokens',\n",
        "                                   'valence', 'anger',\n",
        "                                   'disgust', 'fear',\n",
        "                                   'joy', 'sadness', 'surprise'])\n",
        "\n",
        "def normalization(a, b, x):\n",
        "    return a + (((x - np.min(x)) * (b-a)) / (np.max(x) - np.min(x)))"
      ],
      "execution_count": 35,
      "outputs": [
        {
          "output_type": "stream",
          "text": [
            "[nltk_data] Downloading package punkt to /root/nltk_data...\n",
            "[nltk_data]   Package punkt is already up-to-date!\n",
            "[nltk_data] Downloading package wordnet to /root/nltk_data...\n",
            "[nltk_data]   Package wordnet is already up-to-date!\n",
            "[nltk_data] Downloading package movie_reviews to /root/nltk_data...\n",
            "[nltk_data]   Package movie_reviews is already up-to-date!\n",
            "[nltk_data] Downloading package sentence_polarity to\n",
            "[nltk_data]     /root/nltk_data...\n",
            "[nltk_data]   Package sentence_polarity is already up-to-date!\n",
            "[nltk_data] Downloading package sentiwordnet to /root/nltk_data...\n",
            "[nltk_data]   Package sentiwordnet is already up-to-date!\n",
            "[nltk_data] Downloading package stopwords to /root/nltk_data...\n",
            "[nltk_data]   Package stopwords is already up-to-date!\n",
            "[nltk_data] Downloading package words to /root/nltk_data...\n",
            "[nltk_data]   Package words is already up-to-date!\n"
          ],
          "name": "stdout"
        }
      ]
    },
    {
      "metadata": {
        "id": "505xGswbqOLR",
        "colab_type": "text"
      },
      "cell_type": "markdown",
      "source": [
        "### 3. Importando o Dataset do SemEval 2007 para uma estrutura.\n",
        "\n",
        " - **Phrases**: id, phrase\n",
        " - **Emotions**: id, anger, disgust, fear, joy, sadness, surprise \n",
        " - **Valence**: id, valence\n",
        " \n",
        "Valor de retorno da função load_semeval_dataset:\n",
        " \n",
        " - **Content**: uid, phrase, valence,  anger, disgust, fear, joy, sadness, surprise"
      ]
    },
    {
      "metadata": {
        "id": "e43HpT3ApZT3",
        "colab_type": "code",
        "colab": {}
      },
      "cell_type": "code",
      "source": [
        "def clean_phrase(phrase):\n",
        "    phrase = phrase.lower()\n",
        "    # Remove pontuação\n",
        "    phrase = re.sub(r'[\\\"\\'!@#$%&*\\(\\)-_=+{}\\[\\]:;>.<,|\\\\`´]', '', phrase)\n",
        "    # Remover stopwords em inglês e Lematização das palavras\n",
        "    wordnet_lemmatizer = WordNetLemmatizer()\n",
        "    # stwords = set(stopwords.words('english'))\n",
        "    stwords = set(ENGLISH_STOP_WORDS)\n",
        "    phrase = ' '.join([wordnet_lemmatizer.lemmatize(word) for word in phrase.split() if word not in stwords and len(word) > 2])\n",
        "    # Remove espaços em branco extras\n",
        "    phrase = re.sub(r'\\s{1,}', ' ', phrase)\n",
        "    return phrase\n",
        "\n",
        "\n",
        "def tokenize(phrase):\n",
        "    # Limpar e retorna trigramas da frase\n",
        "    return clean_phrase(phrase).split()\n",
        "\n",
        "\n",
        "def load_semeval_dataset(fname='test'):\n",
        "    content = []\n",
        "    phrases = []\n",
        "    emotions = []\n",
        "    valences = []\n",
        "    with open(f'AffectiveText.{fname}/affectivetext_{fname}.xml') as fxml:\n",
        "        parser = BeautifulSoup(fxml.read())\n",
        "        phrases = list(filter(None, parser.text.split('\\n')))\n",
        "    with open(f'AffectiveText.{fname}/affectivetext_{fname}.emotions.gold') as femotions:\n",
        "        emons = list(filter(None, femotions.read().split('\\n')))\n",
        "        for emotion in emons:\n",
        "            emon = [int(e) for e in emotion.split()]\n",
        "            emotions.append(emon)\n",
        "    with open(f'AffectiveText.{fname}/affectivetext_{fname}.valence.gold') as fvalences:\n",
        "        valens = list(filter(None, fvalences.read().split('\\n')))\n",
        "        for valence in valens:\n",
        "            valen = [int(v) for v in valence.split()]\n",
        "            valences.append(valen)\n",
        "    for i, phrase in enumerate(phrases):\n",
        "        content.append(Conjunto(uid=valences[i][0],\n",
        "                                phrase=phrase,\n",
        "                                tokens=tokenize(phrase),\n",
        "                                valence=valences[i][1:][0],\n",
        "                                anger=emotions[i][1],\n",
        "                                disgust=emotions[i][2],\n",
        "                                fear=emotions[i][3],\n",
        "                                joy=emotions[i][4],\n",
        "                                sadness=emotions[i][5], \n",
        "                                surprise=emotions[i][6]))\n",
        "    return content\n",
        "\n",
        "# Carregar os dados de test e trial\n",
        "train = load_semeval_dataset('test')\n",
        "test = load_semeval_dataset('trial')\n",
        "# train = load_semeval_dataset('trial')\n",
        "# test = load_semeval_dataset('test')"
      ],
      "execution_count": 0,
      "outputs": []
    },
    {
      "metadata": {
        "id": "JCW9urkQYrTM",
        "colab_type": "text"
      },
      "cell_type": "markdown",
      "source": [
        "### 4. TF-IDF\n",
        "\n",
        "Implementação do método estatístico TF-IDF e comparativo com a versão implementada pela biblioteca scikit-learn.\n",
        "\n",
        "Na biblioteca da scikit-learn é aplicada dentre outros procedimentos a normalização nos termos resultantes da tf-idf. A normalização utilizada é a distância euclidiana dos valores. É possível verificar uma explicação detalhada de alguns passos da implementação no [site](http://scikit-learn.org/stable/modules/feature_extraction.html) deles.\n",
        "\n",
        "Nossa implementação abaixo, segue o padrão apresentado na [wikipedia](https://en.wikipedia.org/wiki/Tf%E2%80%93idf)\n",
        "\n",
        "Onde:\n",
        "\n",
        "$tfidf(t, d, D) = tf(t,d) \\times idf(t, D)$\n",
        "\n",
        "$tf(t, d) = f_{t,d} / \\Sigma{f_{t',d}}$\n",
        "\n",
        "$idf(d, D) = \\log \\frac{|D|}{d}$\n",
        "\n",
        "Sendo $t$ o termo (palavra), $d$ o documento e $D$ o conjunto de documentos."
      ]
    },
    {
      "metadata": {
        "id": "3YRxfMLgsLol",
        "colab_type": "code",
        "colab": {}
      },
      "cell_type": "code",
      "source": [
        "class TfidfImpl:\n",
        "\n",
        "    def __init__(self, stopwords=None):\n",
        "        self.stopwords = stopwords\n",
        "    \n",
        "    def clean_phrase(self, phrase):\n",
        "        phrase = phrase.lower()\n",
        "        # Remove pontuação\n",
        "        phrase = re.sub(r'[\\\"\\'!@#$%&*\\(\\)-_=+{}\\[\\]:;>.<,|\\\\`´]', '', phrase)\n",
        "        if self.stopwords == 'english':\n",
        "            # Remover stopwords em inglês e Lematização das palavras\n",
        "            wordnet_lemmatizer = WordNetLemmatizer()\n",
        "            # stwords = set(stopwords.words('english'))\n",
        "            stwords = set(ENGLISH_STOP_WORDS)\n",
        "            phrase = ' '.join([wordnet_lemmatizer.lemmatize(word) for word in phrase.split() if word not in stwords and len(word) > 2])\n",
        "        # Remove espaços em branco extras\n",
        "        phrase = re.sub(r'\\s{1,}', ' ', phrase)\n",
        "        return phrase\n",
        "\n",
        "\n",
        "    def tokenize(self, phrase):\n",
        "        # Limpar e retorna trigramas da frase\n",
        "        return self.clean_phrase(phrase).split()\n",
        "    \n",
        "    def bag_of_words(self, phrases):\n",
        "        bow = []\n",
        "        for phrase in phrases:\n",
        "            bow += phrase\n",
        "        return sorted(set(bow))\n",
        "\n",
        "\n",
        "    def compute_tf(self, words):\n",
        "        tf = {}\n",
        "        lbow = len(words)\n",
        "        for word in words:\n",
        "            tf[word] = tf.get(word, 0) + 1\n",
        "        for word, count in tf.items():\n",
        "            tf[word] = count / lbow\n",
        "        return tf\n",
        "\n",
        "\n",
        "    def compute_idf(self, phrases, N, bow):\n",
        "        idfs = {}\n",
        "        for df in bow:\n",
        "            idfs[df] = idfs.get(df, 0)\n",
        "            for words in phrases:\n",
        "                if df in words:\n",
        "                    idfs[df] = idfs.get(df, 0) + 1\n",
        "        for df in idfs.keys():\n",
        "            idfs[df] = np.log10(N / idfs[df])\n",
        "        return idfs\n",
        "\n",
        "\n",
        "    def compute(self, phrases):\n",
        "        # Checagem... e conversão\n",
        "        assert len(phrases) > 0\n",
        "        if type(phrases[0]) is str:\n",
        "            phrases = [self.tokenize(phrase) for phrase in phrases]\n",
        "        \n",
        "        tf_idf = {}\n",
        "        N = len(phrases)\n",
        "        bow = self.bag_of_words(phrases)\n",
        "        idf = self.compute_idf(phrases, N, bow)\n",
        "        for words in phrases:\n",
        "            tf = self.compute_tf(words)\n",
        "            for word, val in tf.items():\n",
        "                tf_idf[word] = val * idf[word]\n",
        "        return tf_idf"
      ],
      "execution_count": 0,
      "outputs": []
    },
    {
      "metadata": {
        "id": "BbQTPq4mC2px",
        "colab_type": "text"
      },
      "cell_type": "markdown",
      "source": [
        "Resultados das funções criadas acima:"
      ]
    },
    {
      "metadata": {
        "id": "KWH4t9MqC0lA",
        "colab_type": "code",
        "colab": {
          "base_uri": "https://localhost:8080/",
          "height": 704
        },
        "outputId": "a0b54c99-8ea5-4507-d3ac-6d4400f27faa"
      },
      "cell_type": "code",
      "source": [
        "# Convertendo o conjunto montado acima para apenas as frases\n",
        "# phrases = []\n",
        "# conjuntos = test + trial\n",
        "# for conj in conjuntos:\n",
        "#    words = conj.tokens\n",
        "#    phrases.append(' '.join(words))\n",
        "\n",
        "# Testes  \n",
        "phrases = ['The cat is in the hole', 'The rat is in the hole', 'The dog are looking at you througth the hole']\n",
        "\n",
        "# Mostrando apenas as primeiras palavras com menor valor\n",
        "head = 5\n",
        "\n",
        "print('Nossa implementação: ')\n",
        "Tfidf = TfidfImpl(stopwords='english')\n",
        "tf_idf = Tfidf.compute(phrases)\n",
        "df = pd.DataFrame({'term': list(tf_idf.keys()), 'weight': list(tf_idf.values())})\n",
        "df = df.sort_values(by='weight', ascending=True)\n",
        "display(df.head(head))\n",
        "\n",
        "print()\n",
        "print('-' * 20)\n",
        "print('Implementação do Scikit-Learn: TfidfVectorizer')\n",
        "vectorizer = TfidfVectorizer(stop_words='english', norm=None, smooth_idf=False)\n",
        "transformed_weights = vectorizer.fit_transform(phrases)\n",
        "weights = np.asarray(transformed_weights.mean(axis=0)).ravel().tolist()\n",
        "weights_df = pd.DataFrame({'term': vectorizer.get_feature_names(), 'weight': weights})\n",
        "weights_df = weights_df.sort_values(by='weight', ascending=True)\n",
        "display(weights_df.head(head))\n",
        "\n",
        "print()\n",
        "print('-' * 20)\n",
        "print('Implementação do Scikit-Learn: CountVectorizer + TfidfTransformer')\n",
        "cvec = CountVectorizer(stop_words='english')\n",
        "cvec.fit(phrases)\n",
        "cvec_counts = cvec.transform(phrases)\n",
        "transformer = TfidfTransformer(norm=None, smooth_idf=False)\n",
        "transformed_weights = transformer.fit_transform(cvec_counts)\n",
        "weights = np.asarray(transformed_weights.mean(axis=0)).ravel().tolist()\n",
        "weights_df = pd.DataFrame({'term': cvec.get_feature_names(), 'weight': weights})\n",
        "weights_df = weights_df.sort_values(by='weight', ascending=True)\n",
        "display(weights_df.head(head))"
      ],
      "execution_count": 5,
      "outputs": [
        {
          "output_type": "stream",
          "text": [
            "Nossa implementação: \n"
          ],
          "name": "stdout"
        },
        {
          "output_type": "display_data",
          "data": {
            "text/html": [
              "<div>\n",
              "<style scoped>\n",
              "    .dataframe tbody tr th:only-of-type {\n",
              "        vertical-align: middle;\n",
              "    }\n",
              "\n",
              "    .dataframe tbody tr th {\n",
              "        vertical-align: top;\n",
              "    }\n",
              "\n",
              "    .dataframe thead th {\n",
              "        text-align: right;\n",
              "    }\n",
              "</style>\n",
              "<table border=\"1\" class=\"dataframe\">\n",
              "  <thead>\n",
              "    <tr style=\"text-align: right;\">\n",
              "      <th></th>\n",
              "      <th>term</th>\n",
              "      <th>weight</th>\n",
              "    </tr>\n",
              "  </thead>\n",
              "  <tbody>\n",
              "    <tr>\n",
              "      <th>1</th>\n",
              "      <td>hole</td>\n",
              "      <td>0.000000</td>\n",
              "    </tr>\n",
              "    <tr>\n",
              "      <th>3</th>\n",
              "      <td>dog</td>\n",
              "      <td>0.119280</td>\n",
              "    </tr>\n",
              "    <tr>\n",
              "      <th>4</th>\n",
              "      <td>looking</td>\n",
              "      <td>0.119280</td>\n",
              "    </tr>\n",
              "    <tr>\n",
              "      <th>5</th>\n",
              "      <td>througth</td>\n",
              "      <td>0.119280</td>\n",
              "    </tr>\n",
              "    <tr>\n",
              "      <th>0</th>\n",
              "      <td>cat</td>\n",
              "      <td>0.238561</td>\n",
              "    </tr>\n",
              "  </tbody>\n",
              "</table>\n",
              "</div>"
            ],
            "text/plain": [
              "       term    weight\n",
              "1      hole  0.000000\n",
              "3       dog  0.119280\n",
              "4   looking  0.119280\n",
              "5  througth  0.119280\n",
              "0       cat  0.238561"
            ]
          },
          "metadata": {
            "tags": []
          }
        },
        {
          "output_type": "stream",
          "text": [
            "\n",
            "--------------------\n",
            "Implementação do Scikit-Learn: TfidfVectorizer\n"
          ],
          "name": "stdout"
        },
        {
          "output_type": "display_data",
          "data": {
            "text/html": [
              "<div>\n",
              "<style scoped>\n",
              "    .dataframe tbody tr th:only-of-type {\n",
              "        vertical-align: middle;\n",
              "    }\n",
              "\n",
              "    .dataframe tbody tr th {\n",
              "        vertical-align: top;\n",
              "    }\n",
              "\n",
              "    .dataframe thead th {\n",
              "        text-align: right;\n",
              "    }\n",
              "</style>\n",
              "<table border=\"1\" class=\"dataframe\">\n",
              "  <thead>\n",
              "    <tr style=\"text-align: right;\">\n",
              "      <th></th>\n",
              "      <th>term</th>\n",
              "      <th>weight</th>\n",
              "    </tr>\n",
              "  </thead>\n",
              "  <tbody>\n",
              "    <tr>\n",
              "      <th>0</th>\n",
              "      <td>cat</td>\n",
              "      <td>0.699537</td>\n",
              "    </tr>\n",
              "    <tr>\n",
              "      <th>1</th>\n",
              "      <td>dog</td>\n",
              "      <td>0.699537</td>\n",
              "    </tr>\n",
              "    <tr>\n",
              "      <th>3</th>\n",
              "      <td>looking</td>\n",
              "      <td>0.699537</td>\n",
              "    </tr>\n",
              "    <tr>\n",
              "      <th>4</th>\n",
              "      <td>rat</td>\n",
              "      <td>0.699537</td>\n",
              "    </tr>\n",
              "    <tr>\n",
              "      <th>5</th>\n",
              "      <td>througth</td>\n",
              "      <td>0.699537</td>\n",
              "    </tr>\n",
              "  </tbody>\n",
              "</table>\n",
              "</div>"
            ],
            "text/plain": [
              "       term    weight\n",
              "0       cat  0.699537\n",
              "1       dog  0.699537\n",
              "3   looking  0.699537\n",
              "4       rat  0.699537\n",
              "5  througth  0.699537"
            ]
          },
          "metadata": {
            "tags": []
          }
        },
        {
          "output_type": "stream",
          "text": [
            "\n",
            "--------------------\n",
            "Implementação do Scikit-Learn: CountVectorizer + TfidfTransformer\n"
          ],
          "name": "stdout"
        },
        {
          "output_type": "display_data",
          "data": {
            "text/html": [
              "<div>\n",
              "<style scoped>\n",
              "    .dataframe tbody tr th:only-of-type {\n",
              "        vertical-align: middle;\n",
              "    }\n",
              "\n",
              "    .dataframe tbody tr th {\n",
              "        vertical-align: top;\n",
              "    }\n",
              "\n",
              "    .dataframe thead th {\n",
              "        text-align: right;\n",
              "    }\n",
              "</style>\n",
              "<table border=\"1\" class=\"dataframe\">\n",
              "  <thead>\n",
              "    <tr style=\"text-align: right;\">\n",
              "      <th></th>\n",
              "      <th>term</th>\n",
              "      <th>weight</th>\n",
              "    </tr>\n",
              "  </thead>\n",
              "  <tbody>\n",
              "    <tr>\n",
              "      <th>0</th>\n",
              "      <td>cat</td>\n",
              "      <td>0.699537</td>\n",
              "    </tr>\n",
              "    <tr>\n",
              "      <th>1</th>\n",
              "      <td>dog</td>\n",
              "      <td>0.699537</td>\n",
              "    </tr>\n",
              "    <tr>\n",
              "      <th>3</th>\n",
              "      <td>looking</td>\n",
              "      <td>0.699537</td>\n",
              "    </tr>\n",
              "    <tr>\n",
              "      <th>4</th>\n",
              "      <td>rat</td>\n",
              "      <td>0.699537</td>\n",
              "    </tr>\n",
              "    <tr>\n",
              "      <th>5</th>\n",
              "      <td>througth</td>\n",
              "      <td>0.699537</td>\n",
              "    </tr>\n",
              "  </tbody>\n",
              "</table>\n",
              "</div>"
            ],
            "text/plain": [
              "       term    weight\n",
              "0       cat  0.699537\n",
              "1       dog  0.699537\n",
              "3   looking  0.699537\n",
              "4       rat  0.699537\n",
              "5  througth  0.699537"
            ]
          },
          "metadata": {
            "tags": []
          }
        }
      ]
    },
    {
      "metadata": {
        "id": "YaHf7K6_P8Fw",
        "colab_type": "text"
      },
      "cell_type": "markdown",
      "source": [
        "## Verificando valência dos dados\n",
        "\n",
        "Como primeiro teste de validação, iremos testar modelos de ML e Deep Learning no eixo da valência dos dados **POSITIVO x NEGATIVO**."
      ]
    },
    {
      "metadata": {
        "id": "jqzyw-OIOhR_",
        "colab_type": "text"
      },
      "cell_type": "markdown",
      "source": [
        "### Preparar os dados\n",
        "\n",
        "Antes de adicionar os dados para os modelos de ML (Machine Learning que iremos testar) é necessário prepará-los.\n",
        "\n",
        "Conforme demonstrado acima, utilizaremos o TF-IDF como métrica estatística para converter os textos em vetores que possam ser processados pelos modelos.\n",
        "\n",
        "Por questões apresentadas acima, iremos utilizar o cálculo do TF-IDF disponibilizado pela scikit-learn."
      ]
    },
    {
      "metadata": {
        "id": "Pq8GqfNawa0Y",
        "colab_type": "code",
        "colab": {
          "base_uri": "https://localhost:8080/",
          "height": 315
        },
        "outputId": "d78598c6-119a-4207-c332-e58e39e6ba87"
      },
      "cell_type": "code",
      "source": [
        "# Import dos modelos a serem testados\n",
        "from sklearn.cross_validation import train_test_split\n",
        "from sklearn.naive_bayes import MultinomialNB\n",
        "from sklearn.svm import LinearSVC\n",
        "from sklearn.neighbors import KNeighborsRegressor\n",
        "from sklearn.linear_model import LinearRegression, LogisticRegression, Perceptron, Ridge, BayesianRidge\n",
        "# Importanto as funções matemáticas para as métricas.\n",
        "# Como os modelos são de regressão, precisamos utilizar métodos como o MSE e R2\n",
        "from sklearn.metrics import mean_squared_error, r2_score\n",
        "from sklearn.model_selection import cross_val_predict\n",
        "\n",
        "\n",
        "def retorna_frases(conjunto):\n",
        "    \"\"\"Retorna o conjunto de dados a serem utilizados no modelos.\"\"\"\n",
        "    frases = [conj.phrase for conj in conjunto]\n",
        "    valencia = [conj.valence for conj in conjunto]\n",
        "    sentimentos = [[conj.anger, conj.disgust, conj.fear, conj.joy, conj.sadness, conj.surprise] for conj in conjunto]\n",
        "    return frases, valencia, sentimentos\n",
        "\n",
        "# Convertendo o conjunto montado acima para apenas as frases\n",
        "train_frases, train_valencia, train_sent = retorna_frases(train)\n",
        "test_frases, test_valencia, test_sent = retorna_frases(test)\n",
        "\n",
        "# Definimos aqui, algumas frases sem label para avaliarmos o modelo\n",
        "predict_frases = [\n",
        "    'Bad news comes first, good news after',\n",
        "    'I enjoy too much this movie, i love it',\n",
        "    'Hate you, and your brother',\n",
        "    'Great day to walk in the park and play with my dog',\n",
        "    'Don\\'t you worry my friend',\n",
        "    'I have bad news for you sir',\n",
        "    'I\\'m suffering from an illness',\n",
        "    'It hurts so much',\n",
        "    'I dislike movies that have people walking in the park',\n",
        "    'Excellent job, you are such a great employee',\n",
        "    'Mohamed step into the dark mist... and discover marvelous things',\n",
        "    'This smartphone sucks big time... what a shit piece of tech',\n",
        "]\n",
        "\n",
        "# Conjunto completo de frases e seus valores\n",
        "datasets = np.array(train_frases + test_frases)\n",
        "values = np.array(train_valencia + test_valencia)\n",
        "\n",
        "# Criando o TF-IDF\n",
        "vectorizer = TfidfVectorizer(stop_words='english', ngram_range=(1, 3))\n",
        "transformed_weights = vectorizer.fit_transform(datasets)\n",
        "\n",
        "X_train, X_test, y_train, y_test  = train_test_split(\n",
        "        transformed_weights, \n",
        "        values,\n",
        "        train_size=0.92, \n",
        "        random_state=1179)\n",
        "\n",
        "# Recuperando os pesos para cada um dos itens a serem avaliados\n",
        "validate_transformed_weights = vectorizer.transform(predict_frases).toarray()\n",
        "\n",
        "print('Quanto os dados estão esparsos:')\n",
        "plt.figure(figsize=(12, 4))\n",
        "plt.subplot(121)\n",
        "plt.title(f'Train data valence : min {np.min(train_valencia)} | max {np.max(train_valencia)}')\n",
        "plt.plot(np.array(range(0, len(train_valencia))), train_valencia, 'go')\n",
        "plt.ylim([-100, 100])\n",
        "plt.subplot(122)\n",
        "plt.title(f'Test data valence : min {np.min(test_valencia)} | max {np.max(test_valencia)}')\n",
        "plt.plot(np.array(range(0, len(test_valencia))), test_valencia, 'bv')\n",
        "plt.ylim([-100, 100])\n",
        "plt.tight_layout()\n",
        "plt.show()"
      ],
      "execution_count": 6,
      "outputs": [
        {
          "output_type": "stream",
          "text": [
            "Quanto os dados estão esparsos:\n"
          ],
          "name": "stdout"
        },
        {
          "output_type": "display_data",
          "data": {
            "image/png": "[encoded data removed]",
            "text/plain": [
              "<matplotlib.figure.Figure at 0x7f8b45931710>"
            ]
          },
          "metadata": {
            "tags": []
          }
        }
      ]
    },
    {
      "metadata": {
        "id": "9wgTnQGsRrOp",
        "colab_type": "text"
      },
      "cell_type": "markdown",
      "source": [
        "### Testando os modelos de ML\n",
        "\n",
        "Estamos verificando os modelos de ML para validar qual o melhor modelo se encaixa no problema que estamos tentando avaliar.\n",
        "\n",
        "Pelo problema ser de Regressão e não de Classificação (não queremos saber as classes dos itens, mas o quanto ele se aproxima de seus conjuntos pares).\n",
        "\n",
        "Faremos abaixo e teste da implementação mais simples de um algoritmo de Machine Learning, a Regressão Linear de uma variável e Regressão Linear Multipla.\n",
        "\n",
        "#### Simple Linear Regression\n",
        "\n",
        "Para calcular a Regeressão Linear mais simples (de uma variável), utilizamos o seguinte cálculo:\n",
        "\n",
        "$Y = \\alpha + \\beta x$\n",
        "\n",
        "No caso precisamos encontrar os valores de $\\alpha$ e $\\beta$, para isso utilizaremos a equação:\n",
        "\n",
        "$\\alpha = \\hat{y} - \\beta \\hat{x} $\n",
        "\n",
        "$\\beta = Cov(x, y) / Var(x)$\n",
        "\n",
        "$Cov(x, y) = \\Sigma_{i=0}^N \\frac{(x - \\hat{x}) (y - \\hat{y})}{N}$\n",
        "\n",
        "Onde $\\hat{x}$ e $\\hat{y}$ são respectivamente as médias de x e y, Cov é a covariancia entre x e y, e Var é a variância.\n",
        "\n",
        "Referências: \n",
        " - [Simple Linear Regression](https://en.wikipedia.org/wiki/Simple_linear_regression)\n",
        " - [Ordinary Least Squares](https://en.wikipedia.org/wiki/Ordinary_least_squares)"
      ]
    },
    {
      "metadata": {
        "id": "wW5edMRltUyw",
        "colab_type": "code",
        "colab": {
          "base_uri": "https://localhost:8080/",
          "height": 333
        },
        "outputId": "a1abe1e4-c8ee-42be-9050-643dc5289a12"
      },
      "cell_type": "code",
      "source": [
        "# Regressão Linear de uma variável\n",
        "\n",
        "x = np.array([0, 1, 2, 3, 4, 5, 6, 7, 8, 9]) \n",
        "y = np.array([1, 4, 2.5, 5, 7, 8, 8, 9, 11.25, 12.67])\n",
        "\n",
        "\n",
        "def linear_regression(x, y):\n",
        "    # covariance\n",
        "    N = len(x)\n",
        "    c_xy = np.sum(((x - np.mean(x)) * (y - np.mean(y))) / N)\n",
        "    b = c_xy / np.var(x)\n",
        "    a = np.mean(y) - (b * np.mean(x))\n",
        "    return a + (b * x)\n",
        "\n",
        "e = linear_regression(x, y)\n",
        "# scipy implementation\n",
        "e_sc = sc.stats.linregress(x, y)\n",
        "e_sc_value = e_sc.slope * x + e_sc.intercept\n",
        "# Scikit-Learn implementation\n",
        "k = [[m] for m in x]\n",
        "reg = LinearRegression().fit(k, y)\n",
        "e_sk_value = reg.coef_ * k + reg.intercept_\n",
        "\n",
        "# show off\n",
        "error = 1e-10\n",
        "print('Equal implementation (scipy): ', np.sum(e - e_sc_value) < error)\n",
        "print('Equal implementation (scikit-learn): ', np.sum(e - e_sk_value) < error)\n",
        "\n",
        "plt.figure(figsize=(5, 4))\n",
        "plt.title('Simple Linear Regression')\n",
        "plt.plot(x, y, 'mo')\n",
        "plt.plot(e, alpha=.75)\n",
        "plt.plot(e_sc_value, alpha=.5)\n",
        "plt.plot(e_sk_value, alpha=.25)\n",
        "plt.xlim([-1, np.max(x) + 1])\n",
        "plt.ylim([-1, np.max(y) + 1])\n",
        "plt.tight_layout()\n",
        "plt.show()"
      ],
      "execution_count": 7,
      "outputs": [
        {
          "output_type": "stream",
          "text": [
            "Equal implementation (scipy):  True\n",
            "Equal implementation (scikit-learn):  True\n"
          ],
          "name": "stdout"
        },
        {
          "output_type": "display_data",
          "data": {
            "image/png": "[encoded data removed]",
            "text/plain": [
              "<matplotlib.figure.Figure at 0x7f8b49d61be0>"
            ]
          },
          "metadata": {
            "tags": []
          }
        }
      ]
    },
    {
      "metadata": {
        "id": "qA-KUQg32X6G",
        "colab_type": "text"
      },
      "cell_type": "markdown",
      "source": [
        "#### Regressão Linear de Múltiplas Variáveis\n",
        "\n",
        "Para calcular a Regressão Linear de Múltiplas Variáveis, podemos utilizar a notação matricial de acordo com as fórmulas abaixo:\n",
        "\n",
        "$Y = x\\beta$\n",
        "\n",
        "$\\beta = (x^Tx)^{-1}x^Ty$\n",
        "\n",
        "Esta implementação funciona bem para vetores com poucas dimensões, ou que tenha uma lineariedade explicita."
      ]
    },
    {
      "metadata": {
        "id": "UhgBsp_k2gX0",
        "colab_type": "code",
        "colab": {
          "base_uri": "https://localhost:8080/",
          "height": 161
        },
        "outputId": "0e856090-c6b8-4211-9c11-a7d47d7e5ad2"
      },
      "cell_type": "code",
      "source": [
        "x = np.array([\n",
        "    [0, 5, 7, 9, 10],\n",
        "    [2.27, 3.27, 8.27, 10, 12],\n",
        "    [0.5, 6.5, 7.5, 9, 11],\n",
        "    [4.5, 9.5, 15.5, 17, 17.5],\n",
        "]) \n",
        "y = np.array([2.5, 9, 11.25, 13.45])\n",
        "\n",
        "def linear_regression_mul(x, y):\n",
        "    x = np.array(x)\n",
        "    # b is least squares calculation\n",
        "    # line bellow only works for smaller matrices\n",
        "    # m,n = x.shape\n",
        "    # noise = .000001 * np.random.rand(m, n)\n",
        "    # x = x + noise\n",
        "    # T = x.T\n",
        "    # b = np.dot(np.linalg.inv(np.dot(T, x)), np.dot(T, y))\n",
        "    b = np.linalg.lstsq(x, y)[0]\n",
        "    return b, np.dot(x, b)\n",
        "\n",
        "coef, y_pred = linear_regression_mul(x, y)\n",
        "\n",
        "reg = LinearRegression(fit_intercept=False).fit(x, y)\n",
        "coef_sk, y_pred_sk = reg.coef_, reg.predict(x)\n",
        "\n",
        "print('-' * 20)\n",
        "print('Coefficients')\n",
        "print('Implementation: ', coef)\n",
        "print('Scikit-Learn  : ', coef_sk)\n",
        "\n",
        "print('-' * 20)\n",
        "print('Predictions')\n",
        "print('Implementation: ', y_pred)\n",
        "print('Scikit-Learn  : ', y_pred_sk)"
      ],
      "execution_count": 69,
      "outputs": [
        {
          "output_type": "stream",
          "text": [
            "--------------------\n",
            "Coefficients\n",
            "Implementation:  [ 3.79700657  2.32827072 -1.28614088 -4.4622198   4.00216107]\n",
            "Scikit-Learn  :  [ 3.79700657  2.32827072 -1.28614088 -4.4622198   4.00216107]\n",
            "--------------------\n",
            "Predictions\n",
            "Implementation:  [ 2.5   9.   11.25 13.45]\n",
            "Scikit-Learn  :  [ 2.5   9.   11.25 13.45]\n"
          ],
          "name": "stdout"
        }
      ]
    },
    {
      "metadata": {
        "id": "iedmoTHCukFG",
        "colab_type": "text"
      },
      "cell_type": "markdown",
      "source": [
        "Comparativo da função criada acima, com a do Scikit-Learn, usando os dados verdadeiros que foram importados e serão validados mais a frente por diversos modelos."
      ]
    },
    {
      "metadata": {
        "id": "g-B9SdbvtBwY",
        "colab_type": "code",
        "colab": {
          "base_uri": "https://localhost:8080/",
          "height": 197
        },
        "outputId": "44c416e8-a6df-4cb8-a9f7-4a9e54eaacf9"
      },
      "cell_type": "code",
      "source": [
        "coef, y_pred = linear_regression_mul(X_train.toarray(), y_train)\n",
        "\n",
        "md = LinearRegression().fit(X_train.toarray(), y_train)\n",
        "coef_sk, y_pred_sk = md.coef_, md.predict(X_train.toarray())\n",
        "\n",
        "print('-' * 20)\n",
        "print('Coefficients')\n",
        "print('Implementation: ', coef)\n",
        "print('Scikit-Learn  : ', coef_sk)\n",
        "\n",
        "print('-' * 20)\n",
        "print('Predictions')\n",
        "print('Implementation: ', np.floor(y_pred[:10]))\n",
        "print('Scikit-Learn  : ', np.floor(y_pred_sk[:10]))"
      ],
      "execution_count": 71,
      "outputs": [
        {
          "output_type": "stream",
          "text": [
            "--------------------\n",
            "Coefficients\n",
            "Implementation:  [-1.52935096e+14 -1.63605209e+14  3.98704977e+15 ...  5.48164201e+13\n",
            "  5.48164201e+13  5.48164201e+13]\n",
            "Scikit-Learn  :  [-2.02712252e+14 -4.72802372e+13  1.95651407e+14 ... -1.22924602e+13\n",
            " -1.22924602e+13  4.82840417e+12]\n",
            "--------------------\n",
            "Predictions\n",
            "Implementation:  [-77.  79. -37.   4.   1. -52.  49.  47.  52.   9.]\n",
            "Scikit-Learn  :  [-76.  84. -30.   4.  -4. -63.  53.  51.  39.  10.]\n"
          ],
          "name": "stdout"
        }
      ]
    },
    {
      "metadata": {
        "id": "o3vakRuCs_xu",
        "colab_type": "text"
      },
      "cell_type": "markdown",
      "source": [
        "Para facilitar o trabalho no desenvolvimento e validação de diversos algoritmos de Machine Learning iremos continuar utilizando os modelos implementados na biblioteca scikit-learn, como Regressão Linear, Perceptron entre outros.\n",
        "\n",
        " - **LinearRegression**\n",
        " - **Perceptron**\n",
        " - **KNeighborsRegressor**\n",
        " - **BayesianRidge**\n",
        " - **LinearSVC**\n",
        " - **Ridge**\n",
        " \n",
        "Como métrica de resultado, vamos utilizar  **Root Mean Squared Error** and **Coefficient of Determination(R2 Score)** duas métricas amplamente utilizada em Machine Learning para nos dizer se nosso modelo esta se comportando corretamente.\n",
        "\n",
        "O melhor valor para RMSE é de 0.0, para o R2 seria em torno de 1.0 (valores menores que zero podem representar falhas no modelo)."
      ]
    },
    {
      "metadata": {
        "id": "G2zNp-rM3ugC",
        "colab_type": "code",
        "colab": {
          "base_uri": "https://localhost:8080/",
          "height": 2285
        },
        "outputId": "771e2546-f619-4c03-fa0a-b6fd765ee700"
      },
      "cell_type": "code",
      "source": [
        "models = [\n",
        "    LinearRegression(),\n",
        "    Perceptron(max_iter=15),\n",
        "    KNeighborsRegressor(),   \n",
        "    BayesianRidge(),\n",
        "    LinearSVC(),\n",
        "    Ridge(),\n",
        "]\n",
        "\n",
        "# Vamos rodar para cada um dos modelos o fit dos dados e apresentar os resultados\n",
        "for modelo in models:\n",
        "    X_train_weights = X_train.copy()\n",
        "    X_test_weights = X_test.copy()\n",
        "    if isinstance(modelo, Perceptron) or isinstance(modelo, BayesianRidge):\n",
        "        X_train_weights = X_train_weights.toarray()\n",
        "        X_test_weights = X_test_weights.toarray()\n",
        "    modelo.fit(X_train_weights, y_train)\n",
        "    predirect_train = modelo.predict(X_train_weights)\n",
        "    predirect_test = modelo.predict(X_test_weights)\n",
        "    print('-' * 20)\n",
        "    print(f'Model: {modelo.__class__.__name__}')\n",
        "    print('Score on train data: %s' % (round(modelo.score(X_train_weights, y_train) * 100, 2)))\n",
        "    print('Score on test data: %s' % (round(modelo.score(X_test_weights, y_test) * 100, 2)))\n",
        "    print('MSE train:   ', round(mean_squared_error(y_train, predirect_train), 2))\n",
        "    print('R2  train:   ', round(r2_score(y_train, predirect_train), 2))\n",
        "    print('MSE test:   ', round(mean_squared_error(y_test, predirect_test), 2))\n",
        "    print('R2  test:   ', round(r2_score(y_test, predirect_test), 2))\n",
        "    print('Predicted accuracy in each phrase:')\n",
        "    # Predição para as frases\n",
        "    accuracies = np.floor(modelo.predict(validate_transformed_weights))\n",
        "    for i, phrase in enumerate(predict_frases):\n",
        "        print(f'  - {phrase} : {accuracies[i]}')"
      ],
      "execution_count": 322,
      "outputs": [
        {
          "output_type": "stream",
          "text": [
            "--------------------\n",
            "Model: LinearRegression\n",
            "Score on train data: 99.95\n",
            "Score on test data: 26.62\n",
            "MSE train (best 0.0):    1.11\n",
            "R2  train (best 1.0):    1.0\n",
            "MSE test  (best 0.0):    1560.11\n",
            "R2  test  (best 1.0):    0.27\n",
            "Predicted accuracy in each phrase:\n",
            "  - Bad news comes first, good news after : 13.0\n",
            "  - I enjoy too much this movie, i love it : 21.0\n",
            "  - Hate you, and your brother : -8.0\n",
            "  - Great day to walk in the park and play with my dog : -11.0\n",
            "  - Don't you worry my friend : 1.0\n",
            "  - I have bad news for you sir : -3.0\n",
            "  - I'm suffering from an illness : -8.0\n",
            "  - It hurts so much : -8.0\n",
            "  - I dislike movies that have people walking in the park : -12.0\n",
            "  - Excellent job, you are such a great employee : 29.0\n",
            "  - Mohamed step into the dark mist... and discover marvelous things : -1.0\n",
            "  - This smartphone sucks big time... what a shit piece of tech : 38.0\n",
            "--------------------\n",
            "Model: Perceptron\n",
            "Score on train data: 97.83\n",
            "Score on test data: 1.0\n",
            "MSE train (best 0.0):    2.81\n",
            "R2  train (best 1.0):    1.0\n",
            "MSE test  (best 0.0):    3365.73\n",
            "R2  test  (best 1.0):    -0.58\n",
            "Predicted accuracy in each phrase:\n",
            "  - Bad news comes first, good news after : -24.0\n",
            "  - I enjoy too much this movie, i love it : 47.0\n",
            "  - Hate you, and your brother : -100.0\n",
            "  - Great day to walk in the park and play with my dog : 62.0\n",
            "  - Don't you worry my friend : -20.0\n",
            "  - I have bad news for you sir : -14.0\n",
            "  - I'm suffering from an illness : -100.0\n",
            "  - It hurts so much : -100.0\n",
            "  - I dislike movies that have people walking in the park : -84.0\n",
            "  - Excellent job, you are such a great employee : 62.0\n",
            "  - Mohamed step into the dark mist... and discover marvelous things : -6.0\n",
            "  - This smartphone sucks big time... what a shit piece of tech : 0.0\n",
            "--------------------\n",
            "Model: KNeighborsRegressor\n",
            "Score on train data: 51.62\n",
            "Score on test data: 15.84\n",
            "MSE train (best 0.0):    1103.69\n",
            "R2  train (best 1.0):    0.52\n",
            "MSE test  (best 0.0):    1789.4\n",
            "R2  test  (best 1.0):    0.16\n",
            "Predicted accuracy in each phrase:\n",
            "  - Bad news comes first, good news after : 9.0\n",
            "  - I enjoy too much this movie, i love it : 15.0\n",
            "  - Hate you, and your brother : -29.0\n",
            "  - Great day to walk in the park and play with my dog : -10.0\n",
            "  - Don't you worry my friend : 7.0\n",
            "  - I have bad news for you sir : -14.0\n",
            "  - I'm suffering from an illness : -29.0\n",
            "  - It hurts so much : -29.0\n",
            "  - I dislike movies that have people walking in the park : -6.0\n",
            "  - Excellent job, you are such a great employee : 45.0\n",
            "  - Mohamed step into the dark mist... and discover marvelous things : -1.0\n",
            "  - This smartphone sucks big time... what a shit piece of tech : 39.0\n",
            "--------------------\n",
            "Model: BayesianRidge\n",
            "Score on train data: 99.91\n",
            "Score on test data: 26.86\n",
            "MSE train (best 0.0):    2.08\n",
            "R2  train (best 1.0):    1.0\n",
            "MSE test  (best 0.0):    1555.09\n",
            "R2  test  (best 1.0):    0.27\n",
            "Predicted accuracy in each phrase:\n",
            "  - Bad news comes first, good news after : 13.0\n",
            "  - I enjoy too much this movie, i love it : 21.0\n",
            "  - Hate you, and your brother : -6.0\n",
            "  - Great day to walk in the park and play with my dog : -10.0\n",
            "  - Don't you worry my friend : 2.0\n",
            "  - I have bad news for you sir : -2.0\n",
            "  - I'm suffering from an illness : -6.0\n",
            "  - It hurts so much : -6.0\n",
            "  - I dislike movies that have people walking in the park : -11.0\n",
            "  - Excellent job, you are such a great employee : 30.0\n",
            "  - Mohamed step into the dark mist... and discover marvelous things : 0.0\n",
            "  - This smartphone sucks big time... what a shit piece of tech : 37.0\n",
            "--------------------\n",
            "Model: LinearSVC\n",
            "Score on train data: 98.0\n",
            "Score on test data: 1.0\n",
            "MSE train (best 0.0):    2.22\n",
            "R2  train (best 1.0):    1.0\n",
            "MSE test  (best 0.0):    2783.26\n",
            "R2  test  (best 1.0):    -0.31\n",
            "Predicted accuracy in each phrase:\n",
            "  - Bad news comes first, good news after : 41.0\n",
            "  - I enjoy too much this movie, i love it : 63.0\n",
            "  - Hate you, and your brother : 31.0\n",
            "  - Great day to walk in the park and play with my dog : 62.0\n",
            "  - Don't you worry my friend : -20.0\n",
            "  - I have bad news for you sir : -14.0\n",
            "  - I'm suffering from an illness : 31.0\n",
            "  - It hurts so much : 31.0\n",
            "  - I dislike movies that have people walking in the park : -71.0\n",
            "  - Excellent job, you are such a great employee : 62.0\n",
            "  - Mohamed step into the dark mist... and discover marvelous things : -6.0\n",
            "  - This smartphone sucks big time... what a shit piece of tech : 57.0\n",
            "--------------------\n",
            "Model: Ridge\n",
            "Score on train data: 80.1\n",
            "Score on test data: 20.18\n",
            "MSE train (best 0.0):    453.99\n",
            "R2  train (best 1.0):    0.8\n",
            "MSE test  (best 0.0):    1697.15\n",
            "R2  test  (best 1.0):    0.2\n",
            "Predicted accuracy in each phrase:\n",
            "  - Bad news comes first, good news after : 6.0\n",
            "  - I enjoy too much this movie, i love it : 11.0\n",
            "  - Hate you, and your brother : -7.0\n",
            "  - Great day to walk in the park and play with my dog : -9.0\n",
            "  - Don't you worry my friend : -3.0\n",
            "  - I have bad news for you sir : -5.0\n",
            "  - I'm suffering from an illness : -7.0\n",
            "  - It hurts so much : -7.0\n",
            "  - I dislike movies that have people walking in the park : -9.0\n",
            "  - Excellent job, you are such a great employee : 15.0\n",
            "  - Mohamed step into the dark mist... and discover marvelous things : -4.0\n",
            "  - This smartphone sucks big time... what a shit piece of tech : 18.0\n"
          ],
          "name": "stdout"
        }
      ]
    },
    {
      "metadata": {
        "id": "qYPxgYNcDUjE",
        "colab_type": "text"
      },
      "cell_type": "markdown",
      "source": [
        "Vericando os dados e os modelos usando o método de **Cross Validation**.\n",
        "\n",
        "*\"... is any of various similar model validation techniques for assessing how the results of a statistical analysis will generalize to an independent data set. It is mainly used in settings where the goal is prediction, and one wants to estimate how accurately a predictive model will perform in practice.\"* https://en.wikipedia.org/wiki/Cross-validation_(statistics)"
      ]
    },
    {
      "metadata": {
        "id": "qtMIFH6XBpY2",
        "colab_type": "code",
        "colab": {
          "base_uri": "https://localhost:8080/",
          "height": 773
        },
        "outputId": "03ac1c64-a01a-41b1-f1df-34b5ecf69c87"
      },
      "cell_type": "code",
      "source": [
        "# Cross folding value\n",
        "cv = 10\n",
        "\n",
        "# Conjunto completo de frases e seus valores\n",
        "datasets_cross = np.array(train_frases + test_frases)\n",
        "values_cross = np.array(train_valencia + test_valencia)\n",
        "\n",
        "# TF-IDF do conjunto\n",
        "vectorizer = TfidfVectorizer(stop_words='english', ngram_range=(1, 3))\n",
        "crossval_transformed_weights = vectorizer.fit_transform(datasets_cross)\n",
        "\n",
        "# Executando para cada modelo definido\n",
        "for modelo in models:\n",
        "    weights = crossval_transformed_weights.copy()\n",
        "    if isinstance(modelo, Perceptron) or isinstance(modelo, BayesianRidge):\n",
        "        weights = crossval_transformed_weights.toarray()\n",
        "    # Predição e arredondamento dos valores encontrados.\n",
        "    predicted_cross = np.floor(cross_val_predict(modelo, weights, values_cross, cv=cv)).astype(np.int64)\n",
        "    print('-' * 20)\n",
        "    print(f'Model: {modelo.__class__.__name__}')\n",
        "    print('Real values:      ', values_cross[:13])\n",
        "    print('Predicted values: ', predicted_cross[:13])\n",
        "    print('MSE :   ', round(mean_squared_error(values_cross, predicted_cross), 2))\n",
        "    print('R2  :   ', round(r2_score(values_cross, predicted_cross), 2))"
      ],
      "execution_count": 47,
      "outputs": [
        {
          "output_type": "stream",
          "text": [
            "--------------------\n",
            "Model: LinearRegression\n",
            "Real values:       [ 32 -48  26  40  -6 -67  14  -9 -15 -32 -34  61  -6]\n",
            "Predicted values:  [ -2 -35  -8  -2 -25 -30  -9 -19  10  -8 -10  -9  -9]\n",
            "MSE (best 0.0):    1637.18\n",
            "R2  (best 1.0):    0.28\n",
            "--------------------\n",
            "Model: Perceptron\n",
            "Real values:       [ 32 -48  26  40  -6 -67  14  -9 -15 -32 -34  61  -6]\n",
            "Predicted values:  [ 28 -81 -98  73 -75 -62 -53   7  -4 -98  18 -18 -40]\n",
            "MSE (best 0.0):    3269.92\n",
            "R2  (best 1.0):    -0.44\n",
            "--------------------\n",
            "Model: KNeighborsRegressor\n",
            "Real values:       [ 32 -48  26  40  -6 -67  14  -9 -15 -32 -34  61  -6]\n",
            "Predicted values:  [ 15 -61 -21  13 -29 -25 -23  -2  20   0   0 -10  -5]\n",
            "MSE (best 0.0):    1832.89\n",
            "R2  (best 1.0):    0.19\n",
            "--------------------\n",
            "Model: BayesianRidge\n",
            "Real values:       [ 32 -48  26  40  -6 -67  14  -9 -15 -32 -34  61  -6]\n",
            "Predicted values:  [ -2 -34  -6  -1 -24 -28  -8 -18  10  -6  -9  -7  -8]\n",
            "MSE (best 0.0):    1633.93\n",
            "R2  (best 1.0):    0.28\n",
            "--------------------\n",
            "Model: LinearSVC\n",
            "Real values:       [ 32 -48  26  40  -6 -67  14  -9 -15 -32 -34  61  -6]\n",
            "Predicted values:  [-27 -78  31   7  21 -62  17   7  -4  31  18 -57 -40]\n",
            "MSE (best 0.0):    2450.74\n",
            "R2  (best 1.0):    -0.08\n",
            "--------------------\n",
            "Model: LogisticRegression\n",
            "Real values:       [ 32 -48  26  40  -6 -67  14  -9 -15 -32 -34  61  -6]\n",
            "Predicted values:  [31 -6 31 31 31 31 31 31 31 31 31 31 31]\n",
            "MSE (best 0.0):    3154.28\n",
            "R2  (best 1.0):    -0.39\n",
            "--------------------\n",
            "Model: Ridge\n",
            "Real values:       [ 32 -48  26  40  -6 -67  14  -9 -15 -32 -34  61  -6]\n",
            "Predicted values:  [ -4 -23  -7  -2 -18 -20  -8 -14   4  -7  -9  -8  -8]\n",
            "MSE (best 0.0):    1819.75\n",
            "R2  (best 1.0):    0.2\n"
          ],
          "name": "stdout"
        }
      ]
    },
    {
      "metadata": {
        "id": "Qswab3m_WEsK",
        "colab_type": "text"
      },
      "cell_type": "markdown",
      "source": [
        "### Testando os modelo de Deep Learning\n",
        "\n",
        "Vamos avaliar também um modelo básico de Deep Learning.\n",
        "\n",
        "Estamos utilizando a biblioteca pytorch (outra lib de Deep Learning em python) para criação, treino e validação.\n",
        "\n",
        "Optamos por ela, pela maior expressividade no desenvolvimento. \n",
        "\n",
        "Model Layers:\n",
        " - Linear -> ReLU\n",
        " - Linear -> ReLU\n",
        " - Linear\n",
        " - Linear -> ReLU\n",
        " - Linear\n"
      ]
    },
    {
      "metadata": {
        "id": "927oFQ2bniKC",
        "colab_type": "code",
        "colab": {}
      },
      "cell_type": "code",
      "source": [
        "import torch\n",
        "import torch.nn as nn\n",
        "import torch.nn.functional as F\n",
        "\n",
        "torch.set_default_dtype(torch.float64)\n",
        "\n",
        "def train_and_validate(x, y, z, predict_frases, loss_fn=None, optimizer='RMSprop', scheduler=True, epochs=200, learning_rate=1e-4): \n",
        "    # Work on gpu\n",
        "    device = torch.device('cuda')\n",
        "    \n",
        "    # input | output dimensions\n",
        "    D_in, D_out = x.shape[1], 1\n",
        "    \n",
        "    # Create model\n",
        "    model = torch.nn.Sequential(\n",
        "            torch.nn.Linear(D_in, 4096),\n",
        "            torch.nn.ReLU(),\n",
        "            torch.nn.Linear(4096, 2048),\n",
        "            torch.nn.ReLU(),\n",
        "            torch.nn.Linear(2048, 1024),\n",
        "            torch.nn.Linear(1024, 512),\n",
        "            torch.nn.ReLU(),\n",
        "            torch.nn.Linear(512, D_out),\n",
        "        ).to(device)\n",
        "    if not loss_fn:\n",
        "        loss_fn = torch.nn.MSELoss(size_average=False)\n",
        "    if optimizer == 'Adam':\n",
        "        optimizer = torch.optim.Adam(model.parameters(), lr=learning_rate)\n",
        "    elif optimizer == 'Adadelta':\n",
        "        optimizer = torch.optim.Adadelta(model.parameters(), lr=learning_rate)\n",
        "    else:\n",
        "        optimizer = torch.optim.RMSprop(model.parameters(), lr=learning_rate, momentum=.5)\n",
        "    if scheduler:\n",
        "        scheduler = torch.optim.lr_scheduler.StepLR(optimizer, step_size=100, gamma=0.1)\n",
        "    \n",
        "    print(f'Model: {model.__class__.__name__}')\n",
        "    print(f'Loss Function: {loss_fn.__class__.__name__}')\n",
        "    print(f'Optimizer: {optimizer.__class__.__name__}')\n",
        "    if scheduler:\n",
        "        print(f'Scheduler: {scheduler.__class__.__name__}')\n",
        "    \n",
        "    # Training the model\n",
        "    loss_arr = np.zeros(epochs)\n",
        "    for t in range(epochs):\n",
        "        if scheduler:\n",
        "            scheduler.step()\n",
        "        # Forward pass: Compute predicted y by passing x to the model\n",
        "        y_pred = model(x)\n",
        "        # Compute and print loss\n",
        "        loss = loss_fn(y_pred, y)\n",
        "        # Holding loss value to pretty print\n",
        "        loss_arr[t] = loss.item()\n",
        "        # Zero gradients, perform a backward pass, and update the weights.\n",
        "        optimizer.zero_grad()\n",
        "        loss.backward()\n",
        "        optimizer.step()\n",
        "\n",
        "    predicted = model.forward(z).data.cpu().numpy()\n",
        "    \n",
        "    # Print predicted values\n",
        "    for i, phrase in enumerate(predict_frases):\n",
        "        val = np.floor(predicted[i][0]).astype(np.int64)\n",
        "        print(f'  - {phrase} : {val}')\n",
        "        \n",
        "    # Ploting the model loss\n",
        "    plt.figure(figsize=(10, 4))\n",
        "    plt.subplot(121)\n",
        "    plt.title('Model loss')\n",
        "    plt.plot(loss_arr)\n",
        "    plt.subplot(122)\n",
        "    plt.title('Data result')\n",
        "    plt.plot(np.arange(0, 50), y[:50].cpu().numpy(), 'bv', label='from data')\n",
        "    plt.ylim([-100, 100])\n",
        "    plt.plot(np.array(range(0, len(predicted))), predicted, 'go', label='prediction')\n",
        "    plt.ylim([-100, 100])\n",
        "    plt.legend()\n",
        "    plt.show()"
      ],
      "execution_count": 0,
      "outputs": []
    },
    {
      "metadata": {
        "id": "Ta13sgqbsQz7",
        "colab_type": "text"
      },
      "cell_type": "markdown",
      "source": [
        "Para usar o pytorch com melhor performance, vamos transformar os numpy arrays em torch tensors e enviá-los para serem processados na GPU do computador."
      ]
    },
    {
      "metadata": {
        "id": "f0c_5CGTWjT6",
        "colab_type": "code",
        "colab": {}
      },
      "cell_type": "code",
      "source": [
        "# Conjunto completo valores das frases\n",
        "values = [[val] for val in np.array(train_valencia + test_valencia)]\n",
        "\n",
        "# Work on gpu\n",
        "device = torch.device('cuda')\n",
        "\n",
        "# input | output | predict\n",
        "x = torch.tensor(transformed_weights.toarray(), dtype=torch.float64, device=device)\n",
        "y = torch.tensor(values, dtype=torch.float64, device=device)\n",
        "z = torch.tensor(vectorizer.transform(predict_frases).toarray(), dtype=torch.float64, device=device)\n",
        "\n",
        "# EPOCHS!! CHANGE TO RUN THE MODEL FIT MORE TIMES!\n",
        "epochs = 75"
      ],
      "execution_count": 0,
      "outputs": []
    },
    {
      "metadata": {
        "id": "rV8moQCyseDi",
        "colab_type": "text"
      },
      "cell_type": "markdown",
      "source": [
        "Vamos iniciar o treinamento e avaliação de cada um dos testes de nossa simples rede neural.\n",
        "\n",
        "Segue os resultados, onde apresentamos loss function, optimizer usado e as valências calculadas pelo modelo."
      ]
    },
    {
      "metadata": {
        "id": "L6mizba-XT8r",
        "colab_type": "code",
        "colab": {
          "base_uri": "https://localhost:8080/",
          "height": 568
        },
        "outputId": "0ec24f3d-3ffb-4734-96e6-49cffca95545"
      },
      "cell_type": "code",
      "source": [
        "train_and_validate(x, y, z, predict_frases, epochs=epochs)"
      ],
      "execution_count": 175,
      "outputs": [
        {
          "output_type": "stream",
          "text": [
            "Model: Sequential\n",
            "Loss Function: MSELoss\n",
            "Optimizer: RMSprop\n",
            "Scheduler: StepLR\n",
            "  - Bad news comes first, good news after : 35\n",
            "  - I enjoy too much this movie, i love it : 31\n",
            "  - Hate you, and your brother : -11\n",
            "  - Great day to walk in the park and play with my dog : -13\n",
            "  - Don't you worry my friend : 6\n",
            "  - I have bad news for you sir : 17\n",
            "  - I'm suffering from an illness : -11\n",
            "  - It hurts so much : -11\n",
            "  - I dislike movies that have people walking in the park : -13\n",
            "  - Excellent job, you are such a great employee : 35\n",
            "  - Mohamed step into the dark mist... and discover marvelous things : 5\n",
            "  - This smartphone sucks big time... what a shit piece of tech : 37\n"
          ],
          "name": "stdout"
        },
        {
          "output_type": "display_data",
          "data": {
            "image/png": "[encoded data removed]",
            "text/plain": [
              "<matplotlib.figure.Figure at 0x7f51e286a208>"
            ]
          },
          "metadata": {
            "tags": []
          }
        }
      ]
    },
    {
      "metadata": {
        "id": "qDB8m0R4r4He",
        "colab_type": "code",
        "colab": {
          "base_uri": "https://localhost:8080/",
          "height": 568
        },
        "outputId": "a6a89682-76f0-4c73-a122-0cfbd922dba9"
      },
      "cell_type": "code",
      "source": [
        "train_and_validate(x, y, z, predict_frases, optimizer='Adam', epochs=epochs)"
      ],
      "execution_count": 176,
      "outputs": [
        {
          "output_type": "stream",
          "text": [
            "Model: Sequential\n",
            "Loss Function: MSELoss\n",
            "Optimizer: Adam\n",
            "Scheduler: StepLR\n",
            "  - Bad news comes first, good news after : 24\n",
            "  - I enjoy too much this movie, i love it : 20\n",
            "  - Hate you, and your brother : -9\n",
            "  - Great day to walk in the park and play with my dog : -17\n",
            "  - Don't you worry my friend : 3\n",
            "  - I have bad news for you sir : 7\n",
            "  - I'm suffering from an illness : -9\n",
            "  - It hurts so much : -9\n",
            "  - I dislike movies that have people walking in the park : -14\n",
            "  - Excellent job, you are such a great employee : 23\n",
            "  - Mohamed step into the dark mist... and discover marvelous things : 9\n",
            "  - This smartphone sucks big time... what a shit piece of tech : 29\n"
          ],
          "name": "stdout"
        },
        {
          "output_type": "display_data",
          "data": {
            "image/png": "[encoded data removed]",
            "text/plain": [
              "<matplotlib.figure.Figure at 0x7f51e2895080>"
            ]
          },
          "metadata": {
            "tags": []
          }
        }
      ]
    },
    {
      "metadata": {
        "id": "AcW53mY5qcBo",
        "colab_type": "code",
        "colab": {
          "base_uri": "https://localhost:8080/",
          "height": 568
        },
        "outputId": "89928c70-93fe-42c7-d3a6-cd20ec9e8934"
      },
      "cell_type": "code",
      "source": [
        "train_and_validate(x, y, z, predict_frases, optimizer='Adadelta', epochs=epochs)"
      ],
      "execution_count": 177,
      "outputs": [
        {
          "output_type": "stream",
          "text": [
            "Model: Sequential\n",
            "Loss Function: MSELoss\n",
            "Optimizer: RMSprop\n",
            "Scheduler: StepLR\n",
            "  - Bad news comes first, good news after : 34\n",
            "  - I enjoy too much this movie, i love it : 30\n",
            "  - Hate you, and your brother : -12\n",
            "  - Great day to walk in the park and play with my dog : -13\n",
            "  - Don't you worry my friend : 7\n",
            "  - I have bad news for you sir : 19\n",
            "  - I'm suffering from an illness : -12\n",
            "  - It hurts so much : -12\n",
            "  - I dislike movies that have people walking in the park : -13\n",
            "  - Excellent job, you are such a great employee : 35\n",
            "  - Mohamed step into the dark mist... and discover marvelous things : 6\n",
            "  - This smartphone sucks big time... what a shit piece of tech : 37\n"
          ],
          "name": "stdout"
        },
        {
          "output_type": "display_data",
          "data": {
            "image/png": "[encoded data removed]",
            "text/plain": [
              "<matplotlib.figure.Figure at 0x7f51e2606550>"
            ]
          },
          "metadata": {
            "tags": []
          }
        }
      ]
    },
    {
      "metadata": {
        "id": "sg_Ox6NmrE7n",
        "colab_type": "code",
        "colab": {
          "base_uri": "https://localhost:8080/",
          "height": 568
        },
        "outputId": "423b7876-3d6b-41b7-ee13-1f4b92f73b3b"
      },
      "cell_type": "code",
      "source": [
        "loss_fn = torch.nn.L1Loss(size_average=False)\n",
        "train_and_validate(x, y, z, predict_frases, loss_fn=loss_fn, epochs=epochs)"
      ],
      "execution_count": 178,
      "outputs": [
        {
          "output_type": "stream",
          "text": [
            "Model: Sequential\n",
            "Loss Function: L1Loss\n",
            "Optimizer: RMSprop\n",
            "Scheduler: StepLR\n",
            "  - Bad news comes first, good news after : 29\n",
            "  - I enjoy too much this movie, i love it : 23\n",
            "  - Hate you, and your brother : -13\n",
            "  - Great day to walk in the park and play with my dog : -11\n",
            "  - Don't you worry my friend : 9\n",
            "  - I have bad news for you sir : 5\n",
            "  - I'm suffering from an illness : -13\n",
            "  - It hurts so much : -13\n",
            "  - I dislike movies that have people walking in the park : -10\n",
            "  - Excellent job, you are such a great employee : 32\n",
            "  - Mohamed step into the dark mist... and discover marvelous things : -5\n",
            "  - This smartphone sucks big time... what a shit piece of tech : 30\n"
          ],
          "name": "stdout"
        },
        {
          "output_type": "display_data",
          "data": {
            "image/png": "[encoded data removed]",
            "text/plain": [
              "<matplotlib.figure.Figure at 0x7f51e25b0710>"
            ]
          },
          "metadata": {
            "tags": []
          }
        }
      ]
    },
    {
      "metadata": {
        "id": "jYdH2H0OoiGC",
        "colab_type": "text"
      },
      "cell_type": "markdown",
      "source": [
        "## Analisando dados usando sentimentos\n",
        "\n",
        "Em outro aspecto dos dados existentes no dataset do SemEval, é definido também valores de acordo com as emoções de cada frase.\n",
        "\n",
        "Desse modo, iremos analisar usando os modelos acima, apresentados, estes dados mas apontando para os sentimentos descritos.\n",
        "\n",
        "Conforme mencionado: **anger, disgust, fear, joy, sadness, surprise**"
      ]
    },
    {
      "metadata": {
        "id": "WId2gr0iXgj2",
        "colab_type": "code",
        "colab": {}
      },
      "cell_type": "code",
      "source": [
        ""
      ],
      "execution_count": 0,
      "outputs": []
    }
  ]
}