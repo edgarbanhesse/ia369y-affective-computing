{
  "nbformat": 4,
  "nbformat_minor": 0,
  "metadata": {
    "colab": {
      "name": "ia369y-test-note-p3.ipynb",
      "version": "0.3.2",
      "provenance": [],
      "collapsed_sections": [],
      "include_colab_link": true
    },
    "kernelspec": {
      "name": "python3",
      "display_name": "Python 3"
    }
  },
  "cells": [
    {
      "cell_type": "markdown",
      "metadata": {
        "id": "view-in-github",
        "colab_type": "text"
      },
      "source": [
        "[View in Colaboratory](https://colab.research.google.com/github/edgarbanhesse/ia369y-affective-computing/blob/master/ia369y_test_note_p3.ipynb)"
      ]
    },
    {
      "metadata": {
        "id": "_qQv_Tjki_wx",
        "colab_type": "code",
        "colab": {}
      },
      "cell_type": "code",
      "source": [
        "# https://pythonspot.com/python-sentiment-analysis\n",
        "# Exemplo de uso do classificados NaiveBayes\n",
        "\n",
        "import nltk.classify.util\n",
        "from nltk.classify import NaiveBayesClassifier\n",
        "from nltk.corpus import names\n",
        " \n",
        "def word_feats(words):\n",
        "    return dict([(word, True) for word in words])\n",
        " \n",
        "positive_vocab = [ 'awesome', 'outstanding', 'fantastic', 'terrific', 'good', 'nice', 'great', ':)' ]\n",
        "negativ hje_vocab = [ 'bad', 'terrible','useless', 'hate', ':(' ]\n",
        "neutral_vocab = [ 'movie','the','sound','was','is','actors','did','know','words','not' ]\n",
        " \n",
        "positive_features = [(word_feats(pos), 'pos') for pos in positive_vocab]\n",
        "negative_features = [(word_feats(neg), 'neg') for neg in negative_vocab]\n",
        "neutral_features = [(word_feats(neu), 'neu') for neu in neutral_vocab]\n",
        " \n",
        "train_set = negative_features + positive_features + neutral_features\n",
        " \n",
        "classifier = NaiveBayesClassifier.train(train_set) \n",
        " \n",
        "# Predict\n",
        "neg = 0\n",
        "pos = 0\n",
        "sentence = \"Awesome movie, I liked it\"\n",
        "sentence = sentence.lower()\n",
        "words = sentence.split(' ')\n",
        "for word in words:\n",
        "    classResult = classifier.classify( word_feats(word))\n",
        "    if classResult == 'neg':\n",
        "        neg = neg + 1\n",
        "    if classResult == 'pos':\n",
        "        pos = pos + 1\n",
        "\n",
        "# print(positive_vocab)\n",
        "# print(positive_features)\n",
        "# print(train_set)\n",
        "\n",
        "print('Positive: ' + str(float(pos)/len(words)))\n",
        "print('Negative: ' + str(float(neg)/len(words)))\n"
      ],
      "execution_count": 0,
      "outputs": []
    },
    {
      "metadata": {
        "id": "X6OFZoHmcXhN",
        "colab_type": "code",
        "colab": {
          "base_uri": "https://localhost:8080/",
          "height": 168
        },
        "outputId": "e97415c2-a6e2-4e88-b400-deec33b42ceb"
      },
      "cell_type": "code",
      "source": [
        "# Fonte: https://medium.freecodecamp.org/how-to-process-textual-data-using-tf-idf-in-python-cd2bbc0a94a3\n",
        "# Teste de cálculo do tf\n",
        "def computeTF(wordDict, bow):\n",
        "    tfDict = {}\n",
        "    bowCount = len(bow)\n",
        "    for word, count in wordDict.items():\n",
        "        tfDict[word] = count/float(bowCount)\n",
        "    return tfDict\n",
        "\n",
        "S1 = \"The car is driven on the road\"\n",
        "S2 = \"The truck is driven on the highway\"\n",
        "\n",
        "bow1 = S1.split(\" \")\n",
        "bow2 = S2.split(\" \")\n",
        "\n",
        "wordSet = set(bow1).union(set(bow2))\n",
        "\n",
        "wordDict1 = dict.fromkeys(wordSet, 0) \n",
        "wordDict2 = dict.fromkeys(wordSet, 0) \n",
        "\n",
        "for word in bow1:\n",
        "    wordDict1[word]+=1\n",
        "    \n",
        "for word in bow2:\n",
        "    wordDict2[word]+=1\n",
        "    \n",
        "import pandas as pd\n",
        "pd.DataFrame([wordDict1, wordDict2])\n",
        "\n",
        "tfBow1 = computeTF(wordDict1, bow1)\n",
        "tfBow2 = computeTF(wordDict2, bow2)\n",
        "\n",
        "tfBow1"
      ],
      "execution_count": 34,
      "outputs": [
        {
          "output_type": "execute_result",
          "data": {
            "text/plain": [
              "{'The': 0.14285714285714285,\n",
              " 'car': 0.14285714285714285,\n",
              " 'driven': 0.14285714285714285,\n",
              " 'highway': 0.0,\n",
              " 'is': 0.14285714285714285,\n",
              " 'on': 0.14285714285714285,\n",
              " 'road': 0.14285714285714285,\n",
              " 'the': 0.14285714285714285,\n",
              " 'truck': 0.0}"
            ]
          },
          "metadata": {
            "tags": []
          },
          "execution_count": 34
        }
      ]
    },
    {
      "metadata": {
        "id": "-FGg_4X8PaiG",
        "colab_type": "code",
        "colab": {
          "base_uri": "https://localhost:8080/",
          "height": 168
        },
        "outputId": "a9b73fcb-6f0c-4d87-c00b-0757a34c5567"
      },
      "cell_type": "code",
      "source": [
        "tfBow2"
      ],
      "execution_count": 35,
      "outputs": [
        {
          "output_type": "execute_result",
          "data": {
            "text/plain": [
              "{'The': 0.14285714285714285,\n",
              " 'car': 0.0,\n",
              " 'driven': 0.14285714285714285,\n",
              " 'highway': 0.14285714285714285,\n",
              " 'is': 0.14285714285714285,\n",
              " 'on': 0.14285714285714285,\n",
              " 'road': 0.0,\n",
              " 'the': 0.14285714285714285,\n",
              " 'truck': 0.14285714285714285}"
            ]
          },
          "metadata": {
            "tags": []
          },
          "execution_count": 35
        }
      ]
    },
    {
      "metadata": {
        "id": "luYKkrlBtv5e",
        "colab_type": "code",
        "colab": {}
      },
      "cell_type": "code",
      "source": [
        "# Teste de cálculo do idf\n",
        "def computeIDF(docList):\n",
        "    import math\n",
        "    idfDict = {}\n",
        "    N = len(docList)\n",
        "    \n",
        "    idfDict = dict.fromkeys(docList[0].keys(), 0)\n",
        "    for doc in docList:\n",
        "        for word, val in doc.items():\n",
        "            if val > 0:\n",
        "                idfDict[word] += 1\n",
        "    \n",
        "    for word, val in idfDict.items():\n",
        "        idfDict[word] = math.log10(N / float(val))\n",
        "        \n",
        "    return idfDict\n",
        "  \n",
        "\n",
        "idfs = computeIDF([wordDict1, wordDict2])\n",
        "\n",
        "idfs"
      ],
      "execution_count": 0,
      "outputs": []
    },
    {
      "metadata": {
        "id": "Sd6Ho4ISvq-t",
        "colab_type": "code",
        "colab": {
          "base_uri": "https://localhost:8080/",
          "height": 106
        },
        "outputId": "0a5c6704-f2ca-42b2-98bf-bf6a324e2802"
      },
      "cell_type": "code",
      "source": [
        "# Teste de cálculo do tfidf\n",
        "def computeTFIDF(tfBow, idfs):\n",
        "    tfidf = {}\n",
        "    for word, val in tfBow.items():\n",
        "        tfidf[word] = val*idfs[word]\n",
        "    return tfidf\n",
        "  \n",
        "tfidfBow1 = computeTFIDF(tfBow1, idfs)\n",
        "tfidfBow2 = computeTFIDF(tfBow2, idfs)\n",
        "\n",
        "import pandas as pd\n",
        "pd.DataFrame([tfidfBow1, tfidfBow2])"
      ],
      "execution_count": 18,
      "outputs": [
        {
          "output_type": "execute_result",
          "data": {
            "text/html": [
              "<div>\n",
              "<style scoped>\n",
              "    .dataframe tbody tr th:only-of-type {\n",
              "        vertical-align: middle;\n",
              "    }\n",
              "\n",
              "    .dataframe tbody tr th {\n",
              "        vertical-align: top;\n",
              "    }\n",
              "\n",
              "    .dataframe thead th {\n",
              "        text-align: right;\n",
              "    }\n",
              "</style>\n",
              "<table border=\"1\" class=\"dataframe\">\n",
              "  <thead>\n",
              "    <tr style=\"text-align: right;\">\n",
              "      <th></th>\n",
              "      <th>The</th>\n",
              "      <th>car</th>\n",
              "      <th>driven</th>\n",
              "      <th>highway</th>\n",
              "      <th>is</th>\n",
              "      <th>on</th>\n",
              "      <th>road</th>\n",
              "      <th>the</th>\n",
              "      <th>truck</th>\n",
              "    </tr>\n",
              "  </thead>\n",
              "  <tbody>\n",
              "    <tr>\n",
              "      <th>0</th>\n",
              "      <td>0.0</td>\n",
              "      <td>0.043004</td>\n",
              "      <td>0.0</td>\n",
              "      <td>0.000000</td>\n",
              "      <td>0.0</td>\n",
              "      <td>0.0</td>\n",
              "      <td>0.043004</td>\n",
              "      <td>0.0</td>\n",
              "      <td>0.000000</td>\n",
              "    </tr>\n",
              "    <tr>\n",
              "      <th>1</th>\n",
              "      <td>0.0</td>\n",
              "      <td>0.000000</td>\n",
              "      <td>0.0</td>\n",
              "      <td>0.043004</td>\n",
              "      <td>0.0</td>\n",
              "      <td>0.0</td>\n",
              "      <td>0.000000</td>\n",
              "      <td>0.0</td>\n",
              "      <td>0.043004</td>\n",
              "    </tr>\n",
              "  </tbody>\n",
              "</table>\n",
              "</div>"
            ],
            "text/plain": [
              "   The       car  driven   highway   is   on      road  the     truck\n",
              "0  0.0  0.043004     0.0  0.000000  0.0  0.0  0.043004  0.0  0.000000\n",
              "1  0.0  0.000000     0.0  0.043004  0.0  0.0  0.000000  0.0  0.043004"
            ]
          },
          "metadata": {
            "tags": []
          },
          "execution_count": 18
        }
      ]
    },
    {
      "metadata": {
        "id": "QL3IIGs916wG",
        "colab_type": "code",
        "colab": {
          "base_uri": "https://localhost:8080/",
          "height": 353
        },
        "outputId": "9b64ac85-5eb5-41d1-9b86-7fa716af65c6"
      },
      "cell_type": "code",
      "source": [
        "# Classe do T2\n",
        "class TfidfImpl:\n",
        "\n",
        "    def bag_of_words(self, phrases):\n",
        "        bow = []\n",
        "        for phrase in phrases:\n",
        "            bow += phrase\n",
        "        return sorted(set(bow))\n",
        "\n",
        "\n",
        "    def compute_tf(self, words):\n",
        "        tf = {}\n",
        "        lbow = len(words)\n",
        "        for word in words:\n",
        "            tf[word] = tf.get(word, 0) + 1\n",
        "        for word, count in tf.items():\n",
        "            tf[word] = count / lbow\n",
        "        return tf\n",
        "\n",
        "\n",
        "    def compute_idf(self, phrases, N, bow):\n",
        "        import numpy as np\n",
        "        idfs = {}\n",
        "        for df in bow:\n",
        "            idfs[df] = idfs.get(df, 0)\n",
        "            for words in phrases:\n",
        "                if df in words:\n",
        "                    idfs[df] = idfs.get(df, 0) + 1\n",
        "        for df in idfs.keys():\n",
        "            idfs[df] = np.log10(N / idfs[df])\n",
        "        return idfs\n",
        "\n",
        "\n",
        "    def compute(self, phrases):\n",
        "        tf_idf = {}\n",
        "        N = len(phrases)\n",
        "        bow = self.bag_of_words(phrases)\n",
        "        idf = self.compute_idf(phrases, N, bow)\n",
        "        for words in phrases:\n",
        "            tf = self.compute_tf(words)\n",
        "            for word, val in tf.items():\n",
        "                tf_idf[word] = val * idf[word]\n",
        "        return tf_idf \n",
        "\n",
        "# Teste tfidf\n",
        "\n",
        "my_phrases = ['The car is driven on the road', 'The truck is driven on the highway']\n",
        "\n",
        "print('Teste da nossa implementação:')\n",
        "tfidf = TfidfImpl()\n",
        "tfidf = tfidf.compute(my_phrases)\n",
        "tfidf"
      ],
      "execution_count": 24,
      "outputs": [
        {
          "output_type": "stream",
          "text": [
            "Teste da nossa implementação:\n"
          ],
          "name": "stdout"
        },
        {
          "output_type": "execute_result",
          "data": {
            "text/plain": [
              "{' ': 0.0,\n",
              " 'T': 0.0,\n",
              " 'a': 0.0,\n",
              " 'c': 0.0,\n",
              " 'd': 0.0,\n",
              " 'e': 0.0,\n",
              " 'g': 0.0088538234018818,\n",
              " 'h': 0.0,\n",
              " 'i': 0.0,\n",
              " 'k': 0.0088538234018818,\n",
              " 'n': 0.0,\n",
              " 'o': 0.0,\n",
              " 'r': 0.0,\n",
              " 's': 0.0,\n",
              " 't': 0.0,\n",
              " 'u': 0.0088538234018818,\n",
              " 'v': 0.0,\n",
              " 'w': 0.0088538234018818,\n",
              " 'y': 0.0088538234018818}"
            ]
          },
          "metadata": {
            "tags": []
          },
          "execution_count": 24
        }
      ]
    },
    {
      "metadata": {
        "id": "ZlDm0oCRKaJF",
        "colab_type": "code",
        "colab": {
          "base_uri": "https://localhost:8080/",
          "height": 309
        },
        "outputId": "159898b0-2867-452c-b2a5-196a9294e7bd"
      },
      "cell_type": "code",
      "source": [
        "# Teste tfidf sklearn\n",
        "\n",
        "from sklearn.feature_extraction.text import TfidfVectorizer, CountVectorizer\n",
        "from sklearn.preprocessing import normalize\n",
        "import pandas as pd\n",
        "\n",
        "# corpus = {1: \"The game of life is a game of everlasting learning\", 2: \"The unexamined life is not worth living\", 3: \"Never stop learning\"}\n",
        "corpus = {1: \"The car is driven on the road\", 2: \"The truck is driven on the highway\"}\n",
        "\n",
        "cvect = CountVectorizer(ngram_range=(1,1), token_pattern='(?u)\\\\b\\\\w+\\\\b')\n",
        "counts = cvect.fit_transform(corpus.values())\n",
        "normalized_counts = normalize(counts, norm='l1', axis=1)\n",
        "\n",
        "tfidf = TfidfVectorizer(ngram_range=(1,1), token_pattern='(?u)\\\\b\\\\w+\\\\b', smooth_idf=False)\n",
        "tfs = tfidf.fit_transform(corpus.values())\n",
        "new_tfs = normalized_counts.multiply(tfidf.idf_)\n",
        "\n",
        "feature_names = tfidf.get_feature_names()\n",
        "corpus_index = [n for n in corpus]\n",
        "df = pd.DataFrame(new_tfs.T.todense(), index=feature_names, columns=corpus_index)\n",
        "\n",
        "print(df.loc[['The', 'car', 'driven', 'highway', 'is', 'on', 'road', 'the', 'truck']])\n"
      ],
      "execution_count": 38,
      "outputs": [
        {
          "output_type": "stream",
          "text": [
            "                1         2\n",
            "The           NaN       NaN\n",
            "car      0.241878  0.000000\n",
            "driven   0.142857  0.142857\n",
            "highway  0.000000  0.241878\n",
            "is       0.142857  0.142857\n",
            "on       0.142857  0.142857\n",
            "road     0.241878  0.000000\n",
            "the      0.285714  0.285714\n",
            "truck    0.000000  0.241878\n"
          ],
          "name": "stdout"
        },
        {
          "output_type": "stream",
          "text": [
            "/usr/local/lib/python3.6/dist-packages/ipykernel_launcher.py:21: FutureWarning: \n",
            "Passing list-likes to .loc or [] with any missing label will raise\n",
            "KeyError in the future, you can use .reindex() as an alternative.\n",
            "\n",
            "See the documentation here:\n",
            "http://pandas.pydata.org/pandas-docs/stable/indexing.html#deprecate-loc-reindex-listlike\n"
          ],
          "name": "stderr"
        }
      ]
    }
  ]
}